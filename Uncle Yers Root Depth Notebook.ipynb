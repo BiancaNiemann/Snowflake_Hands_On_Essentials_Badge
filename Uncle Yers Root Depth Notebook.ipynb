{
 "metadata": {
  "kernelspec": {
   "display_name": "Streamlit Notebook",
   "name": "streamlit"
  },
  "lastEditStatus": {
   "notebookId": "kp3xjo4oing6pl24oqyf",
   "authorId": "3049467217138",
   "authorName": "BIANCANIEMANN",
   "authorEmail": "zoeyjaneniemann@gmail.com",
   "sessionId": "16145d75-b33e-4e36-8f83-f851f4ffdbcd",
   "lastEditTime": 1756457380811
  }
 },
 "nbformat_minor": 5,
 "nbformat": 4,
 "cells": [
  {
   "cell_type": "markdown",
   "id": "64f481de-0de2-4be1-8127-faa568d33f64",
   "metadata": {
    "name": "Title",
    "collapsed": false
   },
   "source": "Markdown is just text. **But** :red[you] *can* :green[also] make it :blue[fancy]"
  },
  {
   "cell_type": "markdown",
   "id": "08f51bb5-ef7e-4141-91fb-24f1420dea66",
   "metadata": {
    "name": "cell2",
    "collapsed": false
   },
   "source": "# Add Rows to Flower Detail Table\nEdit the \"set\" cells to update the variables, then click \"Run All\" in the top left corner."
  },
  {
   "cell_type": "code",
   "id": "bd85dc17-e42b-4f30-a35d-e65d1eb71ddd",
   "metadata": {
    "language": "sql",
    "name": "set_root_depth"
   },
   "outputs": [],
   "source": "set rdc = 'S';",
   "execution_count": null
  },
  {
   "cell_type": "code",
   "id": "eed6b113-ee94-43c0-bc2a-c5eb9feb8ace",
   "metadata": {
    "language": "sql",
    "name": "set_flower_name"
   },
   "outputs": [],
   "source": "set fn = 'Lilac';",
   "execution_count": null
  },
  {
   "cell_type": "code",
   "id": "81f0d494-53a4-4611-8601-8c4037485dce",
   "metadata": {
    "language": "sql",
    "name": "check_my_variables"
   },
   "outputs": [],
   "source": "select $fn, $rdc;",
   "execution_count": null
  },
  {
   "cell_type": "code",
   "id": "36d5738a-7620-47b2-b5eb-d362073a4a09",
   "metadata": {
    "language": "sql",
    "name": "insert_row"
   },
   "outputs": [],
   "source": "insert into garden_plants.flowers.flower_details\nselect $fn, $rdc;",
   "execution_count": null
  },
  {
   "cell_type": "code",
   "id": "4fb63edc-4aee-4be2-b013-e6643fc61a27",
   "metadata": {
    "language": "sql",
    "name": "insert_sunflower"
   },
   "outputs": [],
   "source": "set rdc = 'D';\nset fn = 'Sunflower';\n\ninsert into garden_plants.flowers.flower_details\nselect $fn, $rdc;",
   "execution_count": null
  },
  {
   "cell_type": "code",
   "id": "1a9cec06-fe0d-49d6-8aa1-81c9792e458a",
   "metadata": {
    "language": "sql",
    "name": "cell3"
   },
   "outputs": [],
   "source": "set rdc = 'S';\nset fn = 'Lavender';\n\ninsert into garden_plants.flowers.flower_details\nselect $fn, $rdc;",
   "execution_count": null
  },
  {
   "cell_type": "code",
   "id": "3d9028ca-0a4d-492d-839e-5dd5a7ebbcfd",
   "metadata": {
    "language": "sql",
    "name": "cell4"
   },
   "outputs": [],
   "source": "set rdc = 'M';\nset fn = 'Tulip';\n\ninsert into garden_plants.flowers.flower_details\nselect $fn, $rdc;",
   "execution_count": null
  },
  {
   "cell_type": "code",
   "id": "e9741af8-0af9-435e-be1d-4ab21f861546",
   "metadata": {
    "language": "sql",
    "name": "cell1"
   },
   "outputs": [],
   "source": "select * from garden_plants.flowers.flower_details",
   "execution_count": null
  },
  {
   "cell_type": "markdown",
   "id": "61c6881f-9972-4c36-ada0-e0ffc10f9c66",
   "metadata": {
    "name": "cell5",
    "collapsed": false
   },
   "source": "If a mistake is made\n\ndelete from garden.plants.flowers.flowers_details\nwhere plant_name = 'Sunflower' and root_depth_code = 'S'"
  }
 ]
}